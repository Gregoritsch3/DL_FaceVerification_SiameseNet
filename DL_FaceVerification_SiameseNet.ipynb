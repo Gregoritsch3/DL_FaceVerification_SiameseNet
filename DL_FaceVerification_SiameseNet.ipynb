{
 "cells": [
  {
   "cell_type": "code",
   "execution_count": 2,
   "id": "1db369c5",
   "metadata": {},
   "outputs": [
    {
     "ename": "ModuleNotFoundError",
     "evalue": "No module named 'tensorflow'",
     "output_type": "error",
     "traceback": [
      "\u001b[1;31m---------------------------------------------------------------------------\u001b[0m",
      "\u001b[1;31mModuleNotFoundError\u001b[0m                       Traceback (most recent call last)",
      "Cell \u001b[1;32mIn[2], line 7\u001b[0m\n\u001b[0;32m      4\u001b[0m \u001b[38;5;28;01mimport\u001b[39;00m\u001b[38;5;250m \u001b[39m\u001b[38;5;21;01mnumpy\u001b[39;00m\u001b[38;5;250m \u001b[39m\u001b[38;5;28;01mas\u001b[39;00m\u001b[38;5;250m \u001b[39m\u001b[38;5;21;01mnp\u001b[39;00m\n\u001b[0;32m      5\u001b[0m \u001b[38;5;28;01mimport\u001b[39;00m\u001b[38;5;250m \u001b[39m\u001b[38;5;21;01mmatplotlib\u001b[39;00m\u001b[38;5;21;01m.\u001b[39;00m\u001b[38;5;21;01mpyplot\u001b[39;00m\u001b[38;5;250m \u001b[39m\u001b[38;5;28;01mas\u001b[39;00m\u001b[38;5;250m \u001b[39m\u001b[38;5;21;01mplt\u001b[39;00m\n\u001b[1;32m----> 7\u001b[0m \u001b[38;5;28;01mimport\u001b[39;00m\u001b[38;5;250m \u001b[39m\u001b[38;5;21;01mtensorflow\u001b[39;00m\u001b[38;5;250m \u001b[39m\u001b[38;5;28;01mas\u001b[39;00m\u001b[38;5;250m \u001b[39m\u001b[38;5;21;01mtf\u001b[39;00m\n",
      "\u001b[1;31mModuleNotFoundError\u001b[0m: No module named 'tensorflow'"
     ]
    }
   ],
   "source": [
    "import cv2\n",
    "import os\n",
    "import random\n",
    "import numpy as np\n",
    "import matplotlib.pyplot as plt\n",
    "\n",
    "import tensorflow as tf"
   ]
  },
  {
   "cell_type": "code",
   "execution_count": null,
   "id": "4bf7cc66",
   "metadata": {},
   "outputs": [],
   "source": [
    "from tensorflow.keras.models import Model\n",
    "from tensorflow.keras.layers import Layer, Conv2D, Dense, MaxPooling2D, Input, Flatten\n",
    "import tensorflow as tf"
   ]
  },
  {
   "cell_type": "code",
   "execution_count": null,
   "id": "a360ce2d",
   "metadata": {},
   "outputs": [],
   "source": [
    "gpus = tf.config.experimental.list_physical_devices('GPU')\n",
    "for gpu in gpus:\n",
    "  tf.config.experimental.set_memory_growth(gpu, True)"
   ]
  },
  {
   "cell_type": "code",
   "execution_count": null,
   "id": "947f00a5",
   "metadata": {},
   "outputs": [],
   "source": [
    "#Setting up paths \n",
    "POS_PATH = os.path.join('data', 'positive')\n",
    "NEG_PATH = os.path.join('data', 'negative')\n",
    "ANC_PATH = os.path.join('data', 'anchor')\n",
    "\n",
    "LFW_PATH = 'lfw-deepfunneled'\n",
    "\n",
    "#Creating folder structures\n",
    "os.makedirs(POS_PATH)\n",
    "os.makedirs(NEG_PATH)\n",
    "os.makedirs(ANC_PATH)"
   ]
  },
  {
   "cell_type": "code",
   "execution_count": null,
   "id": "9224b41a",
   "metadata": {},
   "outputs": [],
   "source": []
  },
  {
   "cell_type": "code",
   "execution_count": null,
   "id": "b302c896",
   "metadata": {},
   "outputs": [],
   "source": [
    "#Fetching negatives (LFW Dataset)\n",
    "!tar -xf lfw-deepfunneled.tar"
   ]
  },
  {
   "cell_type": "code",
   "execution_count": null,
   "id": "7619951b",
   "metadata": {},
   "outputs": [],
   "source": [
    "#Move LFW Images to Negatives \n",
    "try:\n",
    "  for directory in os.listdir(LFW_PATH):\n",
    "    for filee in os.listdir(os.path.join(LFW_PATH, directory, filee)):\n",
    "      EX_PATH = os.path.join(LFW_PATH, directory, filee)\n",
    "      NEW_PATH = os.path.join(NEG_PATH, filee)\n",
    "      os.replace(EX_PATH, NEW_PATH)\n",
    "\n",
    "    print(f\"Successfully moved LFW images to {NEG_PATH}.\")\n",
    "except:\n",
    "  print(\"An error occured!\")"
   ]
  },
  {
   "cell_type": "code",
   "execution_count": null,
   "id": "55577f04",
   "metadata": {},
   "outputs": [],
   "source": [
    "#Collect positive and anchor classes using webcam\n",
    "\n",
    "#Establish connection to webcam\n",
    "cap = cv2.VideoCapture(5)\n",
    "\n",
    "while cap.isOpened():\n",
    "  \"Read results\"\n",
    "  ret, frame = cap.read()\n",
    "  #Show image back to screen\n",
    "  cv2.imshow('Image Collection', frame)\n",
    "  #Breaking if 'q' key is pressed\n",
    "  if cv2.waitKey(1) & 0XFF == ord('q'):\n",
    "    break\n",
    "\n",
    "#Release webcam\n",
    "cap.release()\n",
    "#Close .imshow() frame\n",
    "cv2.destroyAllWindows"
   ]
  }
 ],
 "metadata": {
  "kernelspec": {
   "display_name": "base",
   "language": "python",
   "name": "python3"
  },
  "language_info": {
   "codemirror_mode": {
    "name": "ipython",
    "version": 3
   },
   "file_extension": ".py",
   "mimetype": "text/x-python",
   "name": "python",
   "nbconvert_exporter": "python",
   "pygments_lexer": "ipython3",
   "version": "3.12.3"
  }
 },
 "nbformat": 4,
 "nbformat_minor": 5
}
